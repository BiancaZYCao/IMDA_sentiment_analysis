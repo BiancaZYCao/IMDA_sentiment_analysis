{
 "cells": [
  {
   "cell_type": "markdown",
   "id": "4b0c9bbd-d48c-4ae8-8be1-703a2063aed3",
   "metadata": {},
   "source": [
    "# IMDA Dataset processing"
   ]
  },
  {
   "cell_type": "code",
   "execution_count": 1,
   "id": "6a0400dc-e410-443e-96d8-7463aefed79e",
   "metadata": {},
   "outputs": [],
   "source": [
    "import os\n",
    "import re\n",
    "import pandas as pd\n",
    "import numpy as np\n",
    "import warnings\n",
    "\n",
    "warnings.simplefilter(action='ignore')"
   ]
  },
  {
   "cell_type": "markdown",
   "id": "c3a51932-a574-4bff-a8d4-8a1748e4353a",
   "metadata": {},
   "source": [
    "## load results"
   ]
  },
  {
   "cell_type": "code",
   "execution_count": 3,
   "id": "d133ad77-0d34-4c0a-804e-e6d8f32a10e6",
   "metadata": {},
   "outputs": [
    {
     "data": {
      "text/html": [
       "<div>\n",
       "<style scoped>\n",
       "    .dataframe tbody tr th:only-of-type {\n",
       "        vertical-align: middle;\n",
       "    }\n",
       "\n",
       "    .dataframe tbody tr th {\n",
       "        vertical-align: top;\n",
       "    }\n",
       "\n",
       "    .dataframe thead th {\n",
       "        text-align: right;\n",
       "    }\n",
       "</style>\n",
       "<table border=\"1\" class=\"dataframe\">\n",
       "  <thead>\n",
       "    <tr style=\"text-align: right;\">\n",
       "      <th></th>\n",
       "      <th>file_name</th>\n",
       "      <th>session_id</th>\n",
       "      <th>speaker_id</th>\n",
       "      <th>speaker_type</th>\n",
       "      <th>dialog_type</th>\n",
       "      <th>x_min</th>\n",
       "      <th>x_max</th>\n",
       "      <th>text</th>\n",
       "      <th>cleaned_text_for_sentiment</th>\n",
       "      <th>word_count</th>\n",
       "      <th>...</th>\n",
       "      <th>max_agreement_votes</th>\n",
       "      <th>others_agree_with_each_other</th>\n",
       "      <th>vader_avg</th>\n",
       "      <th>textblob_avg</th>\n",
       "      <th>stanza_avg</th>\n",
       "      <th>rule_based_score</th>\n",
       "      <th>GPT4o_label</th>\n",
       "      <th>others_agree_with_LLM</th>\n",
       "      <th>final_sentiment_score</th>\n",
       "      <th>final_sentiment_label</th>\n",
       "    </tr>\n",
       "  </thead>\n",
       "  <tbody>\n",
       "    <tr>\n",
       "      <th>0</th>\n",
       "      <td>app_0001_3002_phnd_cc-hol.TextGrid</td>\n",
       "      <td>1.0</td>\n",
       "      <td>3002.0</td>\n",
       "      <td>client</td>\n",
       "      <td>holiday</td>\n",
       "      <td>18.58958</td>\n",
       "      <td>23.42000</td>\n",
       "      <td>one of the adult is wheelchair bound which is ...</td>\n",
       "      <td>one of the adult is wheelchair bound which is ...</td>\n",
       "      <td>13.0</td>\n",
       "      <td>...</td>\n",
       "      <td>9</td>\n",
       "      <td>True</td>\n",
       "      <td>0.0000</td>\n",
       "      <td>0.100000</td>\n",
       "      <td>0.0</td>\n",
       "      <td>0.033333</td>\n",
       "      <td>negative</td>\n",
       "      <td>False</td>\n",
       "      <td>-0.113333</td>\n",
       "      <td>negative</td>\n",
       "    </tr>\n",
       "    <tr>\n",
       "      <th>1</th>\n",
       "      <td>app_0001_3002_phnd_cc-hol.TextGrid</td>\n",
       "      <td>1.0</td>\n",
       "      <td>3002.0</td>\n",
       "      <td>client</td>\n",
       "      <td>holiday</td>\n",
       "      <td>25.79000</td>\n",
       "      <td>32.49143</td>\n",
       "      <td>my spouse and myself and my two children and (...</td>\n",
       "      <td>my spouse and myself and my two children and (...</td>\n",
       "      <td>11.0</td>\n",
       "      <td>...</td>\n",
       "      <td>9</td>\n",
       "      <td>True</td>\n",
       "      <td>0.3612</td>\n",
       "      <td>0.000000</td>\n",
       "      <td>0.0</td>\n",
       "      <td>0.120400</td>\n",
       "      <td>neutral</td>\n",
       "      <td>True</td>\n",
       "      <td>0.036120</td>\n",
       "      <td>neutral</td>\n",
       "    </tr>\n",
       "    <tr>\n",
       "      <th>2</th>\n",
       "      <td>app_0001_3002_phnd_cc-hol.TextGrid</td>\n",
       "      <td>1.0</td>\n",
       "      <td>3002.0</td>\n",
       "      <td>client</td>\n",
       "      <td>holiday</td>\n",
       "      <td>32.49143</td>\n",
       "      <td>41.16000</td>\n",
       "      <td>first for the air airplane right I would like ...</td>\n",
       "      <td>first for the air airplane right I would like ...</td>\n",
       "      <td>16.0</td>\n",
       "      <td>...</td>\n",
       "      <td>5</td>\n",
       "      <td>False</td>\n",
       "      <td>0.3612</td>\n",
       "      <td>0.058929</td>\n",
       "      <td>-0.8</td>\n",
       "      <td>-0.126624</td>\n",
       "      <td>neutral</td>\n",
       "      <td>True</td>\n",
       "      <td>0.150000</td>\n",
       "      <td>neutral</td>\n",
       "    </tr>\n",
       "    <tr>\n",
       "      <th>3</th>\n",
       "      <td>app_0001_3002_phnd_cc-hol.TextGrid</td>\n",
       "      <td>1.0</td>\n",
       "      <td>3002.0</td>\n",
       "      <td>client</td>\n",
       "      <td>holiday</td>\n",
       "      <td>41.16000</td>\n",
       "      <td>46.47164</td>\n",
       "      <td>to the toilet so it's more convenient for my (...</td>\n",
       "      <td>to the toilet so it s more convenient for my (...</td>\n",
       "      <td>9.0</td>\n",
       "      <td>...</td>\n",
       "      <td>5</td>\n",
       "      <td>False</td>\n",
       "      <td>0.0000</td>\n",
       "      <td>0.100000</td>\n",
       "      <td>-1.0</td>\n",
       "      <td>-0.300000</td>\n",
       "      <td>neutral</td>\n",
       "      <td>False</td>\n",
       "      <td>0.300000</td>\n",
       "      <td>neutral</td>\n",
       "    </tr>\n",
       "    <tr>\n",
       "      <th>4</th>\n",
       "      <td>app_0001_3002_phnd_cc-hol.TextGrid</td>\n",
       "      <td>1.0</td>\n",
       "      <td>3002.0</td>\n",
       "      <td>client</td>\n",
       "      <td>holiday</td>\n",
       "      <td>46.47164</td>\n",
       "      <td>57.26000</td>\n",
       "      <td>parent and also my kids because you know the t...</td>\n",
       "      <td>parent and also my kids because you know the t...</td>\n",
       "      <td>16.0</td>\n",
       "      <td>...</td>\n",
       "      <td>9</td>\n",
       "      <td>True</td>\n",
       "      <td>0.0000</td>\n",
       "      <td>0.000000</td>\n",
       "      <td>0.0</td>\n",
       "      <td>0.000000</td>\n",
       "      <td>neutral</td>\n",
       "      <td>True</td>\n",
       "      <td>0.210000</td>\n",
       "      <td>neutral</td>\n",
       "    </tr>\n",
       "  </tbody>\n",
       "</table>\n",
       "<p>5 rows × 26 columns</p>\n",
       "</div>"
      ],
      "text/plain": [
       "                            file_name  session_id  speaker_id speaker_type  \\\n",
       "0  app_0001_3002_phnd_cc-hol.TextGrid         1.0      3002.0       client   \n",
       "1  app_0001_3002_phnd_cc-hol.TextGrid         1.0      3002.0       client   \n",
       "2  app_0001_3002_phnd_cc-hol.TextGrid         1.0      3002.0       client   \n",
       "3  app_0001_3002_phnd_cc-hol.TextGrid         1.0      3002.0       client   \n",
       "4  app_0001_3002_phnd_cc-hol.TextGrid         1.0      3002.0       client   \n",
       "\n",
       "  dialog_type     x_min     x_max  \\\n",
       "0     holiday  18.58958  23.42000   \n",
       "1     holiday  25.79000  32.49143   \n",
       "2     holiday  32.49143  41.16000   \n",
       "3     holiday  41.16000  46.47164   \n",
       "4     holiday  46.47164  57.26000   \n",
       "\n",
       "                                                text  \\\n",
       "0  one of the adult is wheelchair bound which is ...   \n",
       "1  my spouse and myself and my two children and (...   \n",
       "2  first for the air airplane right I would like ...   \n",
       "3  to the toilet so it's more convenient for my (...   \n",
       "4  parent and also my kids because you know the t...   \n",
       "\n",
       "                          cleaned_text_for_sentiment  word_count  ...  \\\n",
       "0  one of the adult is wheelchair bound which is ...        13.0  ...   \n",
       "1  my spouse and myself and my two children and (...        11.0  ...   \n",
       "2  first for the air airplane right I would like ...        16.0  ...   \n",
       "3  to the toilet so it s more convenient for my (...         9.0  ...   \n",
       "4  parent and also my kids because you know the t...        16.0  ...   \n",
       "\n",
       "   max_agreement_votes others_agree_with_each_other  vader_avg textblob_avg  \\\n",
       "0                    9                         True     0.0000     0.100000   \n",
       "1                    9                         True     0.3612     0.000000   \n",
       "2                    5                        False     0.3612     0.058929   \n",
       "3                    5                        False     0.0000     0.100000   \n",
       "4                    9                         True     0.0000     0.000000   \n",
       "\n",
       "   stanza_avg rule_based_score  GPT4o_label  others_agree_with_LLM  \\\n",
       "0         0.0         0.033333     negative                  False   \n",
       "1         0.0         0.120400      neutral                   True   \n",
       "2        -0.8        -0.126624      neutral                   True   \n",
       "3        -1.0        -0.300000      neutral                  False   \n",
       "4         0.0         0.000000      neutral                   True   \n",
       "\n",
       "   final_sentiment_score  final_sentiment_label  \n",
       "0              -0.113333               negative  \n",
       "1               0.036120                neutral  \n",
       "2               0.150000                neutral  \n",
       "3               0.300000                neutral  \n",
       "4               0.210000                neutral  \n",
       "\n",
       "[5 rows x 26 columns]"
      ]
     },
     "execution_count": 3,
     "metadata": {},
     "output_type": "execute_result"
    }
   ],
   "source": [
    "session1_df = pd.read_csv(\"../data/session1/IMDA_session1_merged_rule_n_GPT4o.csv\")\n",
    "session1_df.head()"
   ]
  },
  {
   "cell_type": "code",
   "execution_count": 5,
   "id": "67a61d0e-05cd-4d7d-93a3-3141dfab79b4",
   "metadata": {},
   "outputs": [
    {
     "data": {
      "text/plain": [
       "Index(['file_name', 'x_min', 'GPT4o', 'explanation', 'session_id',\n",
       "       'speaker_id', 'speaker_type', 'dialog_type', 'x_max', 'text',\n",
       "       'cleaned_text_for_sentiment', 'word_count', 'duration',\n",
       "       'qualified_for_sentiment', 'processed_text', 'sum_score',\n",
       "       'rule_based_label', 'max_agreement_votes',\n",
       "       'others_agree_with_each_other', 'vader_avg', 'textblob_avg',\n",
       "       'stanza_avg', 'rule_based_score', 'GPT4o_label',\n",
       "       'others_agree_with_LLM', 'final_sentiment_score',\n",
       "       'final_sentiment_label'],\n",
       "      dtype='object')"
      ]
     },
     "execution_count": 5,
     "metadata": {},
     "output_type": "execute_result"
    }
   ],
   "source": [
    "session2_df = pd.read_csv(\"../data/IMDA_session2_merged_rule_n_GPT4o.csv\")\n",
    "session2_df.columns"
   ]
  },
  {
   "cell_type": "code",
   "execution_count": 6,
   "id": "3b5ce56d-adc2-405c-8a45-6f669fe6b7a7",
   "metadata": {},
   "outputs": [
    {
     "data": {
      "text/plain": [
       "Index(['file_name', 'session_id', 'speaker_id', 'speaker_type', 'dialog_type',\n",
       "       'x_min', 'x_max', 'text', 'cleaned_text_for_sentiment', 'word_count',\n",
       "       'duration', 'qualified_for_sentiment', 'GPT4o', 'explanation',\n",
       "       'sum_score', 'rule_based_label', 'max_agreement_votes',\n",
       "       'others_agree_with_each_other', 'vader_avg', 'textblob_avg',\n",
       "       'stanza_avg', 'rule_based_score', 'GPT4o_label',\n",
       "       'others_agree_with_LLM', 'final_sentiment_score',\n",
       "       'final_sentiment_label'],\n",
       "      dtype='object')"
      ]
     },
     "execution_count": 6,
     "metadata": {},
     "output_type": "execute_result"
    }
   ],
   "source": [
    "session3_df = pd.read_csv(\"../data/session3/IMDA_session3_merged_rule_n_GPT4o.csv\")\n",
    "session3_df.columns"
   ]
  },
  {
   "cell_type": "code",
   "execution_count": 8,
   "id": "110990ae-204d-4295-a229-f3cdda249da3",
   "metadata": {},
   "outputs": [
    {
     "name": "stdout",
     "output_type": "stream",
     "text": [
      "(137713, 26)\n",
      "(84495, 27)\n",
      "(79729, 26)\n"
     ]
    }
   ],
   "source": [
    "print(session1_df.shape)\n",
    "print(session2_df.shape)\n",
    "print(session3_df.shape)"
   ]
  },
  {
   "cell_type": "code",
   "execution_count": 9,
   "id": "1d0bf452-4f51-46f8-bd78-7529b77bc7f5",
   "metadata": {},
   "outputs": [
    {
     "data": {
      "text/plain": [
       "final_sentiment_label\n",
       "neutral     173469\n",
       "positive     92155\n",
       "negative     36313\n",
       "Name: count, dtype: int64"
      ]
     },
     "execution_count": 9,
     "metadata": {},
     "output_type": "execute_result"
    }
   ],
   "source": [
    "dataset_df = pd.concat([session1_df,session2_df,session3_df])\n",
    "dataset_df = dataset_df.drop(columns=['processed_text'])\n",
    "dataset_df.final_sentiment_label.value_counts()"
   ]
  },
  {
   "cell_type": "code",
   "execution_count": 12,
   "id": "f2b3bc71-a067-4c53-8d69-50ad5d5b1527",
   "metadata": {},
   "outputs": [
    {
     "data": {
      "image/png": "[encoded data removed]",
      "text/plain": [
       "<Figure size 600x400 with 1 Axes>"
      ]
     },
     "metadata": {},
     "output_type": "display_data"
    }
   ],
   "source": [
    "import matplotlib.pyplot as plt\n",
    "# Calculate the sentiment distribution for each method\n",
    "distribution = dataset_df[['rule_based_label', 'GPT4o_label','final_sentiment_label']].apply(pd.Series.value_counts)\n",
    "\n",
    "# Plot the sentiment distribution for VADER\n",
    "distribution.T.plot(kind='bar', stacked=True, figsize=(6,4), color=['lightblue', 'lightgreen', 'salmon'])\n",
    "plt.title('Sentiment Distribution - ALL')\n",
    "plt.xlabel('Preprocessing Setting')\n",
    "plt.ylabel('Count of Reviews')\n",
    "plt.legend(title='Sentiment')\n",
    "plt.tight_layout()\n",
    "plt.show()\n"
   ]
  },
  {
   "cell_type": "code",
   "execution_count": 16,
   "id": "50892052-d2d9-454e-9bb4-46fbc7aeb07b",
   "metadata": {},
   "outputs": [
    {
     "data": {
      "image/png": "[encoded data removed]",
      "text/plain": [
       "<Figure size 1000x600 with 1 Axes>"
      ]
     },
     "metadata": {},
     "output_type": "display_data"
    },
    {
     "name": "stdout",
     "output_type": "stream",
     "text": [
      "final_sentiment_score\n",
      "(-1.001, -0.9]        5\n",
      "(-0.9, -0.8]          1\n",
      "(-0.8, -0.7]         63\n",
      "(-0.7, -0.6]         49\n",
      "(-0.6, -0.5]        321\n",
      "(-0.5, -0.4]        236\n",
      "(-0.4, -0.3]       1828\n",
      "(-0.3, -0.2]       1596\n",
      "(-0.2, -0.1]       3646\n",
      "(-0.1, 0.0]       25608\n",
      "(0.0, 0.1]        24214\n",
      "(0.1, 0.2]        10129\n",
      "(0.2, 0.3]        11411\n",
      "(0.3, 0.4]         2092\n",
      "(0.4, 0.5]         2246\n",
      "(0.5, 0.6]          693\n",
      "(0.6, 0.7]          544\n",
      "(0.7, 0.8]          213\n",
      "(0.8, 0.9]           76\n",
      "(0.9, 1.0]          205\n",
      "Name: count, dtype: int64\n"
     ]
    }
   ],
   "source": [
    "import matplotlib.pyplot as plt\n",
    "\n",
    "# Calculate binning of 'final_sentiment_score' in bins of size 0.1\n",
    "bin_counts = pd.cut(merged_df['final_sentiment_score'], bins=[i/10 for i in range(-10, 11)], include_lowest=True).value_counts().sort_index()\n",
    "\n",
    "# Plotting the distribution\n",
    "plt.figure(figsize=(10, 6))\n",
    "bin_counts.plot(kind='bar', color='skyblue', edgecolor='black')\n",
    "plt.title('Distribution of Final Sentiment Score in 0.1 Size Bins')\n",
    "plt.xlabel('Final Sentiment Score Bins')\n",
    "plt.ylabel('Frequency')\n",
    "plt.xticks(rotation=45)\n",
    "plt.grid(axis='y', linestyle='--', alpha=0.7)\n",
    "plt.show()\n",
    "\n",
    "# Display the bin counts\n",
    "print(bin_counts)"
   ]
  },
  {
   "cell_type": "markdown",
   "id": "faade2d5-3965-4c1c-8077-b0157c3feeff",
   "metadata": {},
   "source": [
    "### train test split"
   ]
  },
  {
   "cell_type": "code",
   "execution_count": 15,
   "id": "b6e5b4e5-95c2-45b1-8dd1-687646ea0fd1",
   "metadata": {},
   "outputs": [
    {
     "data": {
      "text/plain": [
       "(final_sentiment_label\n",
       " neutral     10372\n",
       " positive     3524\n",
       " negative     2093\n",
       " Name: count, dtype: int64,\n",
       " final_sentiment_label\n",
       " neutral     163097\n",
       " positive     88631\n",
       " negative     34220\n",
       " Name: count, dtype: int64)"
      ]
     },
     "execution_count": 15,
     "metadata": {},
     "output_type": "execute_result"
    }
   ],
   "source": [
    "# take first around 120 session id as test set \n",
    "testset_df =  dataset_df[ (dataset_df.session_id>=683) & (dataset_df.session_id<=800)]\n",
    "trainset_df = dataset_df[~((dataset_df.session_id >= 683) & (dataset_df.session_id <= 800))]\n",
    "\n",
    "trainset_df = trainset_df.reset_index(drop=True)\n",
    "\n",
    "testset_df['final_sentiment_label'].value_counts(), trainset_df['final_sentiment_label'].value_counts()"
   ]
  },
  {
   "cell_type": "code",
   "execution_count": 18,
   "id": "1039d983-4825-4fa5-b380-1d94bc25616d",
   "metadata": {},
   "outputs": [],
   "source": [
    "dataset_df[[ 'session_id','x_min', 'speaker_id', 'speaker_type', 'dialog_type',\n",
    "       'cleaned_text_for_sentiment', 'word_count', 'rule_based_label', \n",
    "       'others_agree_with_each_other', 'vader_avg', 'textblob_avg',\n",
    "       'stanza_avg', 'rule_based_score', 'GPT4o', 'GPT4o_label',\n",
    "       'others_agree_with_LLM', 'final_sentiment_score',\n",
    "       'final_sentiment_label']].to_csv(\"../data/IMDA_all_for_text_sentiment.csv\",index=False)"
   ]
  },
  {
   "cell_type": "markdown",
   "id": "9c1f8166-c8e5-4d67-8151-fb17d0e6e257",
   "metadata": {},
   "source": [
    "# The END"
   ]
  }
 ],
 "metadata": {
  "kernelspec": {
   "display_name": "Python 3 (ipykernel)",
   "language": "python",
   "name": "python3"
  },
  "language_info": {
   "codemirror_mode": {
    "name": "ipython",
    "version": 3
   },
   "file_extension": ".py",
   "mimetype": "text/x-python",
   "name": "python",
   "nbconvert_exporter": "python",
   "pygments_lexer": "ipython3",
   "version": "3.11.8"
  }
 },
 "nbformat": 4,
 "nbformat_minor": 5
}
